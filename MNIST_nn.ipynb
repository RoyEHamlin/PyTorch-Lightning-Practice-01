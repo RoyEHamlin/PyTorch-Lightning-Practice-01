{
  "nbformat": 4,
  "nbformat_minor": 0,
  "metadata": {
    "colab": {
      "name": "MNIST_nn.ipynb",
      "provenance": [],
      "collapsed_sections": [],
      "authorship_tag": "ABX9TyM0zvyvSc80D6BSYz7AoDzZ",
      "include_colab_link": true
    },
    "kernelspec": {
      "name": "python3",
      "display_name": "Python 3"
    },
    "language_info": {
      "name": "python"
    }
  },
  "cells": [
    {
      "cell_type": "markdown",
      "metadata": {
        "id": "view-in-github",
        "colab_type": "text"
      },
      "source": [
        "<a href=\"https://colab.research.google.com/github/RoyEHamlin/PyTorch-Lightning-Practice-01/blob/main/MNIST_nn.ipynb\" target=\"_parent\"><img src=\"https://colab.research.google.com/assets/colab-badge.svg\" alt=\"Open In Colab\"/></a>"
      ]
    },
    {
      "cell_type": "markdown",
      "metadata": {
        "id": "LKj2rMtVbUWG"
      },
      "source": [
        "# Practice MNIST\n",
        "#### from https://www.youtube.com/watch?v=OMDn66kM9Qc"
      ]
    },
    {
      "cell_type": "code",
      "metadata": {
        "id": "NMhffXC4Fg9Y"
      },
      "source": [
        "import torch\n",
        "from torch import nn\n",
        "from torch import optim\n",
        "from torchvision import datasets, transforms\n",
        "from torch.utils.data import random_split, DataLoader"
      ],
      "execution_count": null,
      "outputs": []
    },
    {
      "cell_type": "code",
      "metadata": {
        "id": "GZLLENPcInY1"
      },
      "source": [
        "# Defining model\n",
        "model = nn.Sequential(\n",
        "    nn.Linear(28 * 28, 64),\n",
        "    nn.ReLU(), \n",
        "    nn.Linear(64, 64),\n",
        "    nn.ReLU(),\n",
        "    nn.Linear(64, 10)\n",
        ")"
      ],
      "execution_count": null,
      "outputs": []
    },
    {
      "cell_type": "code",
      "metadata": {
        "id": "9p8dlGZmOHv6"
      },
      "source": [
        "# Define my optimizer\n",
        "params = model.parameters()\n",
        "optimizer = optim.SGD(params, lr=1e-2)"
      ],
      "execution_count": null,
      "outputs": []
    },
    {
      "cell_type": "code",
      "metadata": {
        "id": "9PiQiZGaa5M6"
      },
      "source": [
        "# Define loss\n",
        "loss = nn.CrossEntropyLoss()"
      ],
      "execution_count": null,
      "outputs": []
    },
    {
      "cell_type": "markdown",
      "metadata": {
        "id": "PusOuzOBeDOU"
      },
      "source": [
        "### Both Model and Optimizer can 'zero' gradient.\n",
        "#### https://youtu.be/OMDn66kM9Qc?t=712"
      ]
    },
    {
      "cell_type": "code",
      "metadata": {
        "id": "d1wQq2-Xfruy"
      },
      "source": [
        "# Train, Val split\n",
        "train_data = datasets.MNIST('data', train=True, download=False, transform=transforms.ToTensor())\n",
        "train, val = random_split(train_data, [55000, 5000])\n",
        "train_loader = DataLoader(train, batch_size=32)\n",
        "val_loader = DataLoader(val, batch_size=32)"
      ],
      "execution_count": null,
      "outputs": []
    },
    {
      "cell_type": "code",
      "metadata": {
        "id": "_hK3qMxIbAin",
        "colab": {
          "base_uri": "https://localhost:8080/",
          "height": 235
        },
        "outputId": "09105137-063d-411b-fb71-b26d503eb3f9"
      },
      "source": [
        "# Training and validation Loop\n",
        "nb_epochs = 5\n",
        "for epoch in range(nb_epochs):\n",
        "    losses = list()\n",
        "    for batch in train_loader:\n",
        "        x, y = batch\n",
        "\n",
        "        # x: b x  1 x 28 x 28\n",
        "        b = x.size(0)  # b = number of rows\n",
        "        x = x.view(b, -1)  # x = length of each row = 28^2\n",
        "\n",
        "        # 1 forward\n",
        "        l = model(x) # l: logits\n",
        "\n",
        "        # 2 computer objective function\n",
        "        J = loss (l, y) # l = logit, y = label\n",
        "\n",
        "        # 3 cleaning the gradient  # https://youtu.be/OMDn66kM9Qc?t=1235\n",
        "        model.zero_grad()\n",
        "        # optimizer.zero_grad()\n",
        "        # params.grad.zero_()\n",
        "\n",
        "        # 4 accumulate the partial derivatives of J wrt params\n",
        "        # https://youtu.be/OMDn66kM9Qc?t=1339\n",
        "        J.backward()\n",
        "        # params.grad.sum_(dJ/dparams)\n",
        "\n",
        "        # 5 step in the opposite direction of the gradient\n",
        "        optimiser.step()\n",
        "        # with torch.no_grad(): params = params - eta * params.grad   # long hand # https://youtu.be/OMDn66kM9Qc?t=796 (logic)\n",
        "\n",
        "        losses.append(J.item()) # otherwise, would run out of mem, https://youtu.be/OMDn66kM9Qc?t=1557\n",
        "\n",
        "    print(f'Epoch {epoch + 1}, train loss: {torch.tensor(losses).mean():.2f}')\n",
        "\n",
        "    losses = list()\n",
        "    for batch in val_loader:\n",
        "        x, y = batch\n",
        "\n",
        "        # x: b x  1 x 28 x 28\n",
        "        b = x.size(0)  # b = number of rows\n",
        "        x = x.view(b, -1)  # x = length of each row = 28^2\n",
        "\n",
        "        # 1 forward (no gradient) # https://youtu.be/OMDn66kM9Qc?t=1617\n",
        "        with torch.no_grad():\n",
        "            l = model(x) # l: logits\n",
        "\n",
        "        # 2 computer objective function\n",
        "        J = loss (l, y) # l = logit, y = label\n",
        "\n",
        "\n",
        "        losses.append(J.item()) \n",
        "\n",
        "    print(f'Epoch {epoch + 1}, validation loss: {torch.tensor(losses).mean():.2f}')\n",
        "        "
      ],
      "execution_count": null,
      "outputs": [
        {
          "output_type": "error",
          "ename": "NameError",
          "evalue": "ignored",
          "traceback": [
            "\u001b[0;31m---------------------------------------------------------------------------\u001b[0m",
            "\u001b[0;31mNameError\u001b[0m                                 Traceback (most recent call last)",
            "\u001b[0;32m<ipython-input-33-12ac229769e4>\u001b[0m in \u001b[0;36m<module>\u001b[0;34m()\u001b[0m\n\u001b[1;32m     27\u001b[0m \u001b[0;34m\u001b[0m\u001b[0m\n\u001b[1;32m     28\u001b[0m         \u001b[0;31m# 5 step in the opposite direction of the gradient\u001b[0m\u001b[0;34m\u001b[0m\u001b[0;34m\u001b[0m\u001b[0;34m\u001b[0m\u001b[0m\n\u001b[0;32m---> 29\u001b[0;31m         \u001b[0moptimiser\u001b[0m\u001b[0;34m.\u001b[0m\u001b[0mstep\u001b[0m\u001b[0;34m(\u001b[0m\u001b[0;34m)\u001b[0m\u001b[0;34m\u001b[0m\u001b[0;34m\u001b[0m\u001b[0m\n\u001b[0m\u001b[1;32m     30\u001b[0m         \u001b[0;31m# with torch.no_grad(): params = params - eta * params.grad   # long hand # https://youtu.be/OMDn66kM9Qc?t=796 (logic)\u001b[0m\u001b[0;34m\u001b[0m\u001b[0;34m\u001b[0m\u001b[0;34m\u001b[0m\u001b[0m\n\u001b[1;32m     31\u001b[0m \u001b[0;34m\u001b[0m\u001b[0m\n",
            "\u001b[0;31mNameError\u001b[0m: name 'optimiser' is not defined"
          ]
        }
      ]
    }
  ]
}